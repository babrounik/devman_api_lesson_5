{
 "cells": [
  {
   "cell_type": "code",
   "execution_count": 1,
   "id": "180c0e8c",
   "metadata": {},
   "outputs": [],
   "source": [
    "import requests"
   ]
  },
  {
   "cell_type": "code",
   "execution_count": null,
   "id": "3963e6e0",
   "metadata": {},
   "outputs": [],
   "source": [
    "def getAreas():\n",
    "    response = requests.get('https://api.hh.ru/areas').json()\n",
    "    areas = []\n",
    "    for k in response:\n",
    "        for i in range(len(k['areas'])):\n",
    "            if len(k['areas'][i]['areas']) != 0:  # Если у зоны есть внутренние зоны\n",
    "                for j in range(len(k['areas'][i]['areas'])):\n",
    "                    areas.append([k['id'],\n",
    "                                  k['name'],\n",
    "                                  k['areas'][i]['areas'][j]['id'],\n",
    "                                  k['areas'][i]['areas'][j]['name']])\n",
    "            else:  # Если у зоны нет внутренних зон\n",
    "                areas.append([k['id'],\n",
    "                              k['name'],\n",
    "                              k['areas'][i]['id'],\n",
    "                              k['areas'][i]['name']])\n",
    "    return areas\n",
    "\n",
    "\n",
    "areas = getAreas()\n",
    "\n",
    "print(list(filter(lambda x: x[3] == 'Москва', areas)))"
   ]
  },
  {
   "cell_type": "code",
   "execution_count": 3,
   "id": "45f06d9d",
   "metadata": {},
   "outputs": [
    {
     "name": "stdout",
     "output_type": "stream",
     "text": [
      "Mosсow all: 191156\n",
      "Mosсow last 30 days: 191152\n"
     ]
    }
   ],
   "source": [
    "url = \"https://api.hh.ru/vacancies\"\n",
    "payload_mosсow = {\"area\": 1}\n",
    "response_mosсow_raw = requests.get(url, params=payload_mosсow)\n",
    "response_mosсow_raw.raise_for_status()\n",
    "response_mosсow = response_mosсow_raw.json()\n",
    "print(f\"Mosсow all: {response_mosсow['found']}\")\n",
    "\n",
    "payload_mosсow_30 = {\"area\": 1, \"period\": 30}\n",
    "response_mosсow_30_raw = requests.get(url, params=payload_mosсow_30)\n",
    "response_mosсow_30_raw.raise_for_status()\n",
    "response_mosсow_30 = response_mosсow_30_raw.json()\n",
    "print(f\"Mosсow last 30 days: {response_mosсow_30['found']}\")"
   ]
  },
  {
   "cell_type": "code",
   "execution_count": null,
   "id": "0b721cbb",
   "metadata": {},
   "outputs": [],
   "source": [
    "del response_mosсow[\"items\"]\n",
    "del response_mosсow_30[\"items\"]"
   ]
  },
  {
   "cell_type": "code",
   "execution_count": null,
   "id": "58fc4508",
   "metadata": {},
   "outputs": [],
   "source": [
    "response_mosсow_30"
   ]
  },
  {
   "cell_type": "code",
   "execution_count": null,
   "id": "88acacb2",
   "metadata": {},
   "outputs": [],
   "source": [
    "JavaScript\n",
    "Java\n",
    "Python\n",
    "Ruby\n",
    "PHP\n",
    "C++\n",
    "C#\n",
    "C\n",
    "Go\n",
    "Objective-C"
   ]
  },
  {
   "cell_type": "code",
   "execution_count": null,
   "id": "b0fe18b7",
   "metadata": {},
   "outputs": [],
   "source": [
    "response_mosсow.keys()"
   ]
  },
  {
   "cell_type": "code",
   "execution_count": null,
   "id": "03ff2fce",
   "metadata": {},
   "outputs": [],
   "source": [
    "response_mosсow"
   ]
  },
  {
   "cell_type": "code",
   "execution_count": null,
   "id": "29ff4d35",
   "metadata": {},
   "outputs": [],
   "source": [
    "response_mosсow[\"pages\"]"
   ]
  },
  {
   "cell_type": "code",
   "execution_count": null,
   "id": "e2221aec",
   "metadata": {},
   "outputs": [],
   "source": [
    "len(response_mosсow[\"items\"])"
   ]
  }
 ],
 "metadata": {
  "kernelspec": {
   "display_name": "python3.9",
   "language": "python",
   "name": "python3.9"
  },
  "language_info": {
   "codemirror_mode": {
    "name": "ipython",
    "version": 3
   },
   "file_extension": ".py",
   "mimetype": "text/x-python",
   "name": "python",
   "nbconvert_exporter": "python",
   "pygments_lexer": "ipython3",
   "version": "3.9.11"
  }
 },
 "nbformat": 4,
 "nbformat_minor": 5
}
